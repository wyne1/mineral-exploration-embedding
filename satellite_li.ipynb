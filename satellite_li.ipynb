{
 "cells": [
  {
   "cell_type": "code",
   "execution_count": null,
   "metadata": {},
   "outputs": [],
   "source": [
    "import joblib\n",
    "import rasterio\n",
    "import rasterio.plot\n",
    "import matplotlib.pyplot\n",
    "import sklearn\n",
    "import sklearn.ensemble\n",
    "import pandas\n",
    "import numpy\n",
    "\n",
    "import analysis\n",
    "import data\n",
    "import datasets\n",
    "import satellite"
   ]
  },
  {
   "cell_type": "code",
   "execution_count": null,
   "metadata": {},
   "outputs": [],
   "source": [
    "AGGREGATE_LAYER_COUNT = 3\n",
    "AGGREGATE_LAYER_START = 1\n",
    "GRID_SEARCH_PIXEL_STEP_X = 16\n",
    "GRID_SEARCH_PIXEL_STEP_Y = 16\n",
    "MEASUREMENT_DISAMBIGUATION_MODE = lambda series: series.mean([TARGET_COLUMN])\n",
    "PIXEL_LAYER_COUNT = 3\n",
    "PIXEL_LAYER_START = 0\n",
    "POSITIVE_THRESHOLD = 1000\n",
    "SEED = 3617\n",
    "# TARGET_COLUMN = \"LI\"\n",
    "TARGET_COLUMN = \"Li_ppm\""
   ]
  },
  {
   "cell_type": "code",
   "execution_count": null,
   "metadata": {},
   "outputs": [],
   "source": [
    "satellite_image = datasets.satellite_image_2023()\n",
    "# satellite_image = datasets.satellite_image_2019()"
   ]
  },
  {
   "cell_type": "code",
   "execution_count": null,
   "metadata": {},
   "outputs": [],
   "source": [
    "satellite_data_frame = datasets.geochemical_satellite_analysis_2023_12_19(satellite_image, TARGET_COLUMN, POSITIVE_THRESHOLD)\n",
    "# satellite_data_frame = datasets.geochemical_satellite_analysis_2023_10_17(satellite_image, TARGET_COLUMN, POSITIVE_THRESHOLD)\n",
    "# satellite_data_frame = datasets.geochemical_satellite_analysis_2023_01_20(satellite_image, TARGET_COLUMN, POSITIVE_THRESHOLD)\n",
    "satellite.create_features(satellite_data_frame, satellite_image, PIXEL_LAYER_START, PIXEL_LAYER_COUNT, AGGREGATE_LAYER_START, AGGREGATE_LAYER_COUNT)"
   ]
  },
  {
   "cell_type": "code",
   "execution_count": null,
   "metadata": {},
   "outputs": [],
   "source": [
    "index_data_frame = satellite.create_summary_data_frame(satellite_data_frame, satellite_image, TARGET_COLUMN, MEASUREMENT_DISAMBIGUATION_MODE, PIXEL_LAYER_START, PIXEL_LAYER_COUNT, AGGREGATE_LAYER_START, AGGREGATE_LAYER_COUNT)\n",
    "x_labels = index_data_frame.x_labels()\n",
    "y_labels = index_data_frame.y_labels()"
   ]
  },
  {
   "cell_type": "code",
   "execution_count": null,
   "metadata": {},
   "outputs": [],
   "source": [
    "#380 0,0,0,1\n",
    "#84 0,1,1,5\n",
    "#119 0,0,0,3\n",
    "#48 0,0,0,7\n",
    "#MEAN 52 0,3,1,3\n",
    "#MAX 226 0,3,1,3 0.309859\n",
    "\n",
    "x_train, y_train, x_test, y_test = data.split_train_test(index_data_frame, x_labels, y_labels, seed=SEED)\n",
    "\n",
    "histogram = sklearn.ensemble.HistGradientBoostingRegressor(loss=\"squared_error\", validation_fraction=0.2, min_samples_leaf=5, random_state=SEED).fit(x_train, y_train)\n",
    "\n",
    "print(\"Train\")\n",
    "print(\"Training Score\", histogram.score(x_train, y_train))\n",
    "print(\"Test Score\", histogram.score(x_test, y_test))\n",
    "\n",
    "y_test_predicted = histogram.predict(x_test)\n",
    "comparison, confusion_matrix, geochem_result_set = analysis.evaluate_performance(y_test, y_test_predicted, POSITIVE_THRESHOLD)\n",
    "\n",
    "x_all = index_data_frame[x_labels].to_numpy(numpy.float32)\n",
    "y_all = index_data_frame[y_labels].to_numpy(numpy.float32).ravel()\n",
    "y_all_predicted = histogram.predict(x_all)\n",
    "\n",
    "print(\"\\nAll\")\n",
    "comparison_all, confusion_matrix_all, geochem_result_set_all = analysis.evaluate_performance(y_all, y_all_predicted, POSITIVE_THRESHOLD)\n",
    "\n",
    "import joblib\n",
    "joblib.dump(histogram, f\"Models/Satellite{TARGET_COLUMN}Histogram.joblib\")\n",
    "\n",
    "# import skl2onnx \n",
    "# import skl2onnx.common.data_types\n",
    "# initial_type = [(\"input\", skl2onnx.common.data_types.FloatTensorType([None, x_train.shape[1]]))]\n",
    "# with open(f\"Models/Satellite{TARGET_COLUMN}Histogram.onnx\", \"wb\") as file:\n",
    "#     file.write(skl2onnx.convert_sklearn(histogram, initial_types=initial_type).SerializeToString())"
   ]
  },
  {
   "cell_type": "code",
   "execution_count": null,
   "metadata": {},
   "outputs": [],
   "source": [
    "satellite_data_frame[f\"{TARGET_COLUMN}_PREDICTED\"] = histogram.predict(satellite_data_frame[x_labels])\n",
    "satellite_data_frame.to_csv(f\"Output/{TARGET_COLUMN} Histogram Satellite Predictions.csv\", sep=\",\", index=False)"
   ]
  },
  {
   "cell_type": "code",
   "execution_count": null,
   "metadata": {},
   "outputs": [],
   "source": [
    "grid_search_data_frame = satellite.create_grid_search_data_frame(satellite_image, GRID_SEARCH_PIXEL_STEP_X, GRID_SEARCH_PIXEL_STEP_Y, PIXEL_LAYER_START, PIXEL_LAYER_COUNT, AGGREGATE_LAYER_START, AGGREGATE_LAYER_COUNT)"
   ]
  },
  {
   "cell_type": "code",
   "execution_count": null,
   "metadata": {},
   "outputs": [],
   "source": [
    "grid_search_data_frame = satellite.filter_white_pixels(grid_search_data_frame)"
   ]
  },
  {
   "cell_type": "code",
   "execution_count": null,
   "metadata": {},
   "outputs": [],
   "source": [
    "grid_search_data_frame[TARGET_COLUMN] = histogram.predict(grid_search_data_frame[x_labels])\n",
    "grid_search_data_frame[f\"{TARGET_COLUMN}_THRESHOLD\"] = grid_search_data_frame[TARGET_COLUMN].ge(POSITIVE_THRESHOLD)\n",
    "grid_search_data_frame.to_csv(f\"Output/{TARGET_COLUMN} Histogram Grid Search.csv\", sep=\",\", index=False)"
   ]
  },
  {
   "cell_type": "code",
   "execution_count": null,
   "metadata": {},
   "outputs": [],
   "source": [
    "joblib.dump(grid_search_data_frame, f\"Output/{TARGET_COLUMN} Grid Search Data Frame.joblib\")"
   ]
  },
  {
   "cell_type": "code",
   "execution_count": null,
   "metadata": {},
   "outputs": [],
   "source": [
    "abridged_grid_search_data_frame = grid_search_data_frame[[\"EAST\", \"NORTH\", TARGET_COLUMN]]\n",
    "abridged_grid_search_data_frame.to_csv(f\"Output/Abridged {TARGET_COLUMN} Histogram Grid Search.csv\", sep=\",\", index=False)"
   ]
  },
  {
   "cell_type": "code",
   "execution_count": null,
   "metadata": {},
   "outputs": [],
   "source": [
    "previous_model = joblib.load(f\"Models/{TARGET_COLUMN}_HistogramGradientBoostingRegressor.joblib\")\n",
    "\n",
    "# Newest geochem\n",
    "ratios = [\"Rb_K2O\", \"Rb_Yb\", \"Rb_La\", \"K2O_MgO\", \"Rb_MgO\", \"U_Ba\", \"Ba_La\", \"U_Th\", \"Rb_Sn\", \"K2O_Sn\", \"Rb_MnO\", \"MnO_MgO\"]\n",
    "x_geochemical_labels = [\"SIO2_wt%\", \"TIO2_wt%\", \"AL2O3_wt%\", \"FE2O3T_wt%\", \"FEOT_wt%\", \"MNO_wt%\", \"MGO_wt%\", \"CAO_wt%\", \"NA2O_wt%\", \"K2O_wt%\", \"P2O5_wt%\", \"H2O_wt%\", \"CR2O3_wt%\"] + [\"Li_ppm\", \"Sc_ppm\", \"V_ppm\", \"Cr_ppm\", \"Co_ppm\", \"Ni_ppm\", \"Cu_ppm\", \"Zn_ppm\", \"Ga_ppm\", \"Mo_ppm\", \"W_ppm\", \"Sn_ppm\", \"Sb_ppm\", \"Rb_ppm\", \"Sr_ppm\", \"Y_ppm\", \"Nb_ppm\", \"Zr_ppm\", \"Cs_ppm\", \"Cd_ppm\", \"Ba_ppm\", \"La_ppm\", \"Ce_ppm\", \"Pr_ppm\", \"Nd_ppm\", \"Sm_ppm\", \"Eu_ppm\", \"Gd_ppm\", \"Tb_ppm\", \"Dy_ppm\", \"Ho_ppm\", \"Er_ppm\", \"Tm_ppm\", \"Yb_ppm\", \"Lu_ppm\", \"Hf_ppm\", \"Ta_ppm\", \"Pb_ppm\", \"Th_ppm\", \"U_ppm\", \"Au_ppb\", \"Ag_ppm\", \"S_%\", \"As_ppm\", \"Se_ppm\", \"Te_ppm\", \"Ge_ppm\", \"Bi_ppm\", \"Tl_ppm\", \"Be_ppm\", \"B_ppm\", \"F_ppm\", \"Cl_ppm\", \"In_ppm\"] + ratios\n",
    "x_geochemical_labels.remove(TARGET_COLUMN)\n",
    "datasets.compute_ratios(satellite_data_frame, ratios, x_geochemical_labels + [TARGET_COLUMN])\n",
    "\n",
    "# Previous geochem\n",
    "# datasets.compute_ratios(satellite_data_frame)\n",
    "# x_geochemical_labels = [\"SIO2\", \"TIO2\", \"AL2O3\",\"FE2O3T\",\"FEOT\",\"MNO\",\"MGO\",\"CAO\",\"NA2O\",\"K2O\",\"P2O5\",\"H2O\", \"CR2O3\"] + [\"LI\", \"SC\", \"V\",\"CR\",\"CO\",\"NI\",\"CU\",\"ZN\",\"GA\",\"MO\",\"W\",\"SN\",\"SB\",\"RB\",\"SR\",\"Y\",\"NB\",\"ZR\",\"CS\",\"CD\",\"BA\",\"LA\",\"CE\",\"PR\",\"ND\",\"SM\",\"EU\",\"GD\",\"TB\",\"DY\",\"HO\",\"ER\",\"TM\",\"YB\",\"LU\",\"HF\",\"TA\",\"PB\",\"TH\",\"U\",\"AU\",\"AG\",\"S\",\"AS_\",\"SE\",\"TE\",\"GE\",\"BI\",\"TL\",\"BE\",\"B\",\"F\",\"CL\",\"INDIUM\"] + [\"Rb_K2O\", \"Rb_Yb\", \"Rb_La\", \"K2O_MgO\", \"Rb_MgO\", \"U_Ba\", \"Ba_La\", \"U_Th\", \"Rb_Sn\", \"K2O_Sn\", \"Rb_MnO\", \"MnO_MgO\"]\n",
    "# x_geochemical_labels.remove(TARGET_COLUMN)\n",
    "\n",
    "satellite_data_frame[f\"{TARGET_COLUMN}_PREDICTED_GEOCHEMICAL\"] = previous_model.predict(satellite_data_frame[x_geochemical_labels])\n",
    "satellite_data_frame[f\"{TARGET_COLUMN}_PREDICTED_GEOCHEMICAL_THRESHOLD\"] = satellite_data_frame[f\"{TARGET_COLUMN}_PREDICTED_GEOCHEMICAL\"].ge(POSITIVE_THRESHOLD)"
   ]
  },
  {
   "cell_type": "code",
   "execution_count": null,
   "metadata": {},
   "outputs": [],
   "source": [
    "figure, axes = matplotlib.pyplot.subplots(nrows=1, ncols=3, figsize=(20, 10))\n",
    "satellite_data_frame[satellite_data_frame[f\"{TARGET_COLUMN}_THRESHOLD\"] == False].plot(ax=axes[0], legend=True, color=\"white\", markersize=9, linewidth=0.5, edgecolors=\"black\")\n",
    "\n",
    "satellite_data_frame[satellite_data_frame[f\"{TARGET_COLUMN}_THRESHOLD\"]].plot(ax=axes[0], legend=True, color=\"yellow\", markersize=25, linewidth=0.5, edgecolors=\"black\")\n",
    "axes[0].set_title(f\"Known Samples\")\n",
    "\n",
    "# grid_search_data_frame[grid_search_data_frame[f\"{TARGET_COLUMN}_THRESHOLD\"]].sort_values(f\"{TARGET_COLUMN}\", ascending=False).head(14805).plot(ax=axes[1], legend=True, color=\"yellow\", markersize=1)\n",
    "# grid_search_data_frame[grid_search_data_frame[f\"{TARGET_COLUMN}_THRESHOLD\"]].sort_values(f\"{TARGET_COLUMN}\", ascending=False).head(11103).plot(ax=axes[1], legend=True, color=\"yellow\", markersize=1)\n",
    "# grid_search_data_frame[grid_search_data_frame[f\"{TARGET_COLUMN}_THRESHOLD\"]].sort_values(f\"{TARGET_COLUMN}\", ascending=False).head(7402).plot(ax=axes[1], legend=True, color=\"yellow\", markersize=1)\n",
    "# grid_search_data_frame[grid_search_data_frame[f\"{TARGET_COLUMN}_THRESHOLD\"]].sort_values(f\"{TARGET_COLUMN}\", ascending=False).head(3701).plot(ax=axes[1], legend=True, color=\"yellow\", markersize=1)\n",
    "# grid_search_data_frame[grid_search_data_frame[f\"{TARGET_COLUMN}_THRESHOLD\"]].sort_values(f\"{TARGET_COLUMN}\", ascending=False).head(1480).plot(ax=axes[1], legend=True, color=\"yellow\", markersize=1)\n",
    "# grid_search_data_frame[grid_search_data_frame[f\"{TARGET_COLUMN}_THRESHOLD\"]].sort_values(f\"{TARGET_COLUMN}\", ascending=False).head(740).plot(ax=axes[1], legend=True, color=\"yellow\", markersize=1)\n",
    "grid_search_data_frame[grid_search_data_frame[f\"{TARGET_COLUMN}_THRESHOLD\"]].plot(ax=axes[1], legend=True, color=\"yellow\", markersize=1)\n",
    "axes[1].set_title(f\"Grid Search Positive Results\")\n",
    "\n",
    "satellite_data_frame[satellite_data_frame[f\"{TARGET_COLUMN}_PREDICTED_GEOCHEMICAL_THRESHOLD\"]].plot(ax=axes[2], legend=True, color=\"yellow\", markersize=25, linewidth=0.5, edgecolors=\"black\")\n",
    "axes[2].set_title(f\"Predicted Positive Samples\")\n",
    "\n",
    "rasterio.plot.show(satellite_image, ax=axes[0])\n",
    "rasterio.plot.show(satellite_image, ax=axes[1])\n",
    "rasterio.plot.show(satellite_image, ax=axes[2])\n",
    "matplotlib.pyplot.savefig(f\"Output/{TARGET_COLUMN} Figure.png\")"
   ]
  },
  {
   "cell_type": "code",
   "execution_count": null,
   "metadata": {},
   "outputs": [],
   "source": [
    "plot = grid_search_data_frame[grid_search_data_frame[f\"{TARGET_COLUMN}_THRESHOLD\"]][f\"{TARGET_COLUMN}\"].plot(kind=\"hist\", bins=200, figsize=(14, 4))\n",
    "\n",
    "plot.set_title(\"Ppm distribution\")\n",
    "plot.set_xlabel(\"Li ppm\")\n",
    "plot.set_ylabel(\"frequency\")\n",
    "\n",
    "x = grid_search_data_frame[grid_search_data_frame[f\"{TARGET_COLUMN}_THRESHOLD\"]][f\"{TARGET_COLUMN}\"]\n",
    "\n",
    "ymax = 0\n",
    "for step in numpy.arange(0.05, 1, 0.05):\n",
    "    quantile = round(step, 2)\n",
    "    xval = x.quantile(quantile)\n",
    "    label = f\"{int(quantile * 100)}th\"\n",
    "    ymax += 80\n",
    "    plot.vlines(xval, 0, ymax , linestyle='dashed', color=\"r\", linewidth=1)\n",
    "    plot.text(xval* 1.01, ymax, label.format(x.mean()))\n",
    "\n",
    "x98th = x.quantile(0.98)\n",
    "plot.vlines(x98th, 0, ymax , linestyle='dashed', color=\"r\", linewidth=1)\n",
    "plot.text(x98th* 1.01, ymax, '98th'.format(x98th))\n",
    "\n",
    "x99th = x.quantile(0.99)\n",
    "plot.vlines(x99th, 0, ymax , linestyle='dashed', color=\"r\", linewidth=1)\n",
    "plot.text(x99th* 1.01, ymax, '99th percentile'.format(x99th))\n",
    "\n",
    "matplotlib.pyplot.savefig(f\"Output/{TARGET_COLUMN} ppm frequency histogram.png\")\n"
   ]
  }
 ],
 "metadata": {
  "kernelspec": {
   "display_name": "Python 3 (ipykernel)",
   "language": "python",
   "name": "python3"
  },
  "language_info": {
   "codemirror_mode": {
    "name": "ipython",
    "version": 3
   },
   "file_extension": ".py",
   "mimetype": "text/x-python",
   "name": "python",
   "nbconvert_exporter": "python",
   "pygments_lexer": "ipython3",
   "version": "3.12.0"
  },
  "vscode": {
   "interpreter": {
    "hash": "86309ac60a4e15e7ce2f4556d564600f48015c3a9e46b9d2629de0a83a2aacb7"
   }
  }
 },
 "nbformat": 4,
 "nbformat_minor": 2
}
