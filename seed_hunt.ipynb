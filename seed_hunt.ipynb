{
 "cells": [
  {
   "cell_type": "code",
   "execution_count": 1,
   "metadata": {},
   "outputs": [
    {
     "name": "stderr",
     "output_type": "stream",
     "text": [
      "c:\\Program Files\\Python310\\lib\\site-packages\\numpy\\_distributor_init.py:30: UserWarning: loaded more than 1 DLL from .libs:\n",
      "c:\\Program Files\\Python310\\lib\\site-packages\\numpy\\.libs\\libopenblas.EL2C6PLE4ZYW3ECEVIV3OXXGRN2NRFM2.gfortran-win_amd64.dll\n",
      "c:\\Program Files\\Python310\\lib\\site-packages\\numpy\\.libs\\libopenblas64__v0.3.21-gcc_10_3_0.dll\n",
      "  warnings.warn(\"loaded more than 1 DLL from .libs:\"\n"
     ]
    }
   ],
   "source": [
    "import reproducibility\n",
    "import datasets\n",
    "import pandas\n",
    "import numpy as np\n",
    "import models\n",
    "import datasets\n",
    "\n",
    "from sklearn.ensemble import HistGradientBoostingRegressor\n",
    "from analysis import evaluate_performance\n",
    "\n",
    "elements_thresholds = [\n",
    "    # (\"Li_ppm\", 200),\n",
    "    # (\"Li_ppm\", 1000),\n",
    "    # (\"Sb_ppm\", 100),\n",
    "    # (\"Zn_ppm\", 500),\n",
    "    # (\"Ag_ppm\", 4),\n",
    "    # (\"Au_ppb\", 8),\n",
    "    # (\"Sn_ppm\", 100),\n",
    "    (\"Cu_ppm\", 100),\n",
    "    (\"Pb_ppm\", 35),\n",
    "]"
   ]
  },
  {
   "cell_type": "code",
   "execution_count": 2,
   "metadata": {},
   "outputs": [
    {
     "ename": "KeyError",
     "evalue": "'MnO_MgO'",
     "output_type": "error",
     "traceback": [
      "\u001b[1;31m---------------------------------------------------------------------------\u001b[0m",
      "\u001b[1;31mKeyError\u001b[0m                                  Traceback (most recent call last)",
      "File \u001b[1;32mc:\\Program Files\\Python310\\lib\\site-packages\\pandas\\core\\indexes\\base.py:3653\u001b[0m, in \u001b[0;36mIndex.get_loc\u001b[1;34m(self, key)\u001b[0m\n\u001b[0;32m   3652\u001b[0m \u001b[39mtry\u001b[39;00m:\n\u001b[1;32m-> 3653\u001b[0m     \u001b[39mreturn\u001b[39;00m \u001b[39mself\u001b[39;49m\u001b[39m.\u001b[39;49m_engine\u001b[39m.\u001b[39;49mget_loc(casted_key)\n\u001b[0;32m   3654\u001b[0m \u001b[39mexcept\u001b[39;00m \u001b[39mKeyError\u001b[39;00m \u001b[39mas\u001b[39;00m err:\n",
      "File \u001b[1;32mc:\\Program Files\\Python310\\lib\\site-packages\\pandas\\_libs\\index.pyx:147\u001b[0m, in \u001b[0;36mpandas._libs.index.IndexEngine.get_loc\u001b[1;34m()\u001b[0m\n",
      "File \u001b[1;32mc:\\Program Files\\Python310\\lib\\site-packages\\pandas\\_libs\\index.pyx:176\u001b[0m, in \u001b[0;36mpandas._libs.index.IndexEngine.get_loc\u001b[1;34m()\u001b[0m\n",
      "File \u001b[1;32mpandas\\_libs\\hashtable_class_helper.pxi:7080\u001b[0m, in \u001b[0;36mpandas._libs.hashtable.PyObjectHashTable.get_item\u001b[1;34m()\u001b[0m\n",
      "File \u001b[1;32mpandas\\_libs\\hashtable_class_helper.pxi:7088\u001b[0m, in \u001b[0;36mpandas._libs.hashtable.PyObjectHashTable.get_item\u001b[1;34m()\u001b[0m\n",
      "\u001b[1;31mKeyError\u001b[0m: 'MnO_MgO'",
      "\nThe above exception was the direct cause of the following exception:\n",
      "\u001b[1;31mKeyError\u001b[0m                                  Traceback (most recent call last)",
      "Cell \u001b[1;32mIn[2], line 10\u001b[0m\n\u001b[0;32m      7\u001b[0m data_frame\u001b[39m.\u001b[39mx_labels \u001b[39m=\u001b[39m \u001b[39mlambda\u001b[39;00m : [\u001b[39m\"\u001b[39m\u001b[39mEAST\u001b[39m\u001b[39m\"\u001b[39m, \u001b[39m\"\u001b[39m\u001b[39mNORTH\u001b[39m\u001b[39m\"\u001b[39m, \u001b[39m\"\u001b[39m\u001b[39mALTITUDE\u001b[39m\u001b[39m\"\u001b[39m] \u001b[39m+\u001b[39m X_mass \u001b[39m+\u001b[39m X_impurities_original \u001b[39m+\u001b[39m X_ratios\n\u001b[0;32m      8\u001b[0m data_frame\u001b[39m.\u001b[39my_labels \u001b[39m=\u001b[39m \u001b[39mlambda\u001b[39;00m : []\n\u001b[1;32m---> 10\u001b[0m data_frame \u001b[39m=\u001b[39m datasets\u001b[39m.\u001b[39;49mclean(data_frame,  X_mass \u001b[39m+\u001b[39;49m X_impurities_original \u001b[39m+\u001b[39;49m X_ratios, [])\n\u001b[0;32m     11\u001b[0m data_frame \u001b[39m=\u001b[39m datasets\u001b[39m.\u001b[39mcompute_ratios(data_frame, X_ratios, X_mass \u001b[39m+\u001b[39m X_impurities_original)\n\u001b[0;32m     12\u001b[0m geochemical_analysis \u001b[39m=\u001b[39m data_frame\n",
      "File \u001b[1;32mc:\\Users\\s.breznikar\\Documents\\Tectoniq\\datasets.py:136\u001b[0m, in \u001b[0;36mclean\u001b[1;34m(data_frame, x_labels, y_labels)\u001b[0m\n\u001b[0;32m    133\u001b[0m         \u001b[39mreturn\u001b[39;00m x    \n\u001b[0;32m    135\u001b[0m \u001b[39mfor\u001b[39;00m column \u001b[39min\u001b[39;00m x_labels \u001b[39m+\u001b[39m y_labels:\n\u001b[1;32m--> 136\u001b[0m     data_frame[column] \u001b[39m=\u001b[39m data_frame[column]\u001b[39m.\u001b[39mapply(coerce_float)\u001b[39m.\u001b[39mapply(apply_unmeasured)\u001b[39m.\u001b[39mapply(replace_lessthan)\n\u001b[0;32m    138\u001b[0m \u001b[39mreturn\u001b[39;00m data_frame\n",
      "File \u001b[1;32mc:\\Program Files\\Python310\\lib\\site-packages\\pandas\\core\\frame.py:3761\u001b[0m, in \u001b[0;36mDataFrame.__getitem__\u001b[1;34m(self, key)\u001b[0m\n\u001b[0;32m   3759\u001b[0m \u001b[39mif\u001b[39;00m \u001b[39mself\u001b[39m\u001b[39m.\u001b[39mcolumns\u001b[39m.\u001b[39mnlevels \u001b[39m>\u001b[39m \u001b[39m1\u001b[39m:\n\u001b[0;32m   3760\u001b[0m     \u001b[39mreturn\u001b[39;00m \u001b[39mself\u001b[39m\u001b[39m.\u001b[39m_getitem_multilevel(key)\n\u001b[1;32m-> 3761\u001b[0m indexer \u001b[39m=\u001b[39m \u001b[39mself\u001b[39;49m\u001b[39m.\u001b[39;49mcolumns\u001b[39m.\u001b[39;49mget_loc(key)\n\u001b[0;32m   3762\u001b[0m \u001b[39mif\u001b[39;00m is_integer(indexer):\n\u001b[0;32m   3763\u001b[0m     indexer \u001b[39m=\u001b[39m [indexer]\n",
      "File \u001b[1;32mc:\\Program Files\\Python310\\lib\\site-packages\\pandas\\core\\indexes\\base.py:3655\u001b[0m, in \u001b[0;36mIndex.get_loc\u001b[1;34m(self, key)\u001b[0m\n\u001b[0;32m   3653\u001b[0m     \u001b[39mreturn\u001b[39;00m \u001b[39mself\u001b[39m\u001b[39m.\u001b[39m_engine\u001b[39m.\u001b[39mget_loc(casted_key)\n\u001b[0;32m   3654\u001b[0m \u001b[39mexcept\u001b[39;00m \u001b[39mKeyError\u001b[39;00m \u001b[39mas\u001b[39;00m err:\n\u001b[1;32m-> 3655\u001b[0m     \u001b[39mraise\u001b[39;00m \u001b[39mKeyError\u001b[39;00m(key) \u001b[39mfrom\u001b[39;00m \u001b[39merr\u001b[39;00m\n\u001b[0;32m   3656\u001b[0m \u001b[39mexcept\u001b[39;00m \u001b[39mTypeError\u001b[39;00m:\n\u001b[0;32m   3657\u001b[0m     \u001b[39m# If we have a listlike key, _check_indexing_error will raise\u001b[39;00m\n\u001b[0;32m   3658\u001b[0m     \u001b[39m#  InvalidIndexError. Otherwise we fall through and re-raise\u001b[39;00m\n\u001b[0;32m   3659\u001b[0m     \u001b[39m#  the TypeError.\u001b[39;00m\n\u001b[0;32m   3660\u001b[0m     \u001b[39mself\u001b[39m\u001b[39m.\u001b[39m_check_indexing_error(key)\n",
      "\u001b[1;31mKeyError\u001b[0m: 'MnO_MgO'"
     ]
    }
   ],
   "source": [
    "data_frame = pandas.read_excel(\"Data/Andes Master Geochem 16 July 2023.xlsx\")\n",
    "\n",
    "X_mass = [\"SIO2_wt%\", \"TIO2_wt%\", \"AL2O3_wt%\", \"FE2O3T_wt%\", \"FEOT_wt%\", \"MNO_wt%\", \"MGO_wt%\", \"CAO_wt%\", \"NA2O_wt%\", \"K2O_wt%\", \"P2O5_wt%\", \"H2O_wt%\", \"CR2O3_wt%\"]\n",
    "X_impurities_original=[\"Li_ppm\", \"Sc_ppm\", \"V_ppm\", \"Cr_ppm\", \"Co_ppm\", \"Ni_ppm\", \"Cu_ppm\", \"Zn_ppm\", \"Ga_ppm\", \"Mo_ppm\", \"W_ppm\", \"Sn_ppm\", \"Sb_ppm\", \"Rb_ppm\", \"Sr_ppm\", \"Y_ppm\", \"Nb_ppm\", \"Zr_ppm\", \"Cs_ppm\", \"Cd_ppm\", \"Ba_ppm\", \"La_ppm\", \"Ce_ppm\", \"Pr_ppm\", \"Nd_ppm\", \"Sm_ppm\", \"Eu_ppm\", \"Gd_ppm\", \"Tb_ppm\", \"Dy_ppm\", \"Ho_ppm\", \"Er_ppm\", \"Tm_ppm\", \"Yb_ppm\", \"Lu_ppm\", \"Hf_ppm\", \"Ta_ppm\", \"Pb_ppm\", \"Th_ppm\", \"U_ppm\", \"Au_ppb\", \"Ag_ppm\", \"S_%\", \"As_ppm\", \"Se_ppm\", \"Te_ppm\", \"Ge_ppm\", \"Bi_ppm\", \"Tl_ppm\", \"Be_ppm\", \"B_ppm\", \"F_ppm\", \"Cl_ppm\", \"In_ppm\"]\n",
    "X_ratios=[\"Rb_K2O\", \"Rb_Yb\", \"Rb_La\", \"K2O_MgO\", \"Rb_MgO\", \"U_Ba\", \"Ba_La\", \"U_Th\", \"Rb_Sn\", \"K2O_Sn\", \"MnO_MgO\"]\n",
    "\n",
    "data_frame.x_labels = lambda : X_mass + X_impurities_original + X_ratios\n",
    "data_frame.y_labels = lambda : []\n",
    "\n",
    "data_frame = datasets.clean(data_frame,  X_mass + X_impurities_original + X_ratios, [])\n",
    "data_frame = datasets.compute_ratios(data_frame, X_ratios, X_mass + X_impurities_original)\n",
    "geochemical_analysis = data_frame\n",
    "\n",
    "def seed_hunt(benchmark_f1: float, benchmark_seed: int, target_element: str, ppm_threshold) -> int:\n",
    "    for i in range(1, 1000):\n",
    "        reproducibility.seed_random(i)\n",
    "\n",
    "        X_impurities = [x for x in X_impurities_original if x != target_element]\n",
    "        \n",
    "        x_labels = X_mass + X_impurities + X_ratios\n",
    "        y_labels = [target_element]\n",
    "\n",
    "        data_frame.x_labels = lambda : x_labels\n",
    "        data_frame.y_labels = lambda : y_labels\n",
    "\n",
    "        geochemical_analysis_measured = geochemical_analysis[x_labels + y_labels].dropna(subset=y_labels)\n",
    "        geochemical_analysis_train = geochemical_analysis_measured.sample(frac=0.8, random_state=i)\n",
    "        geochemical_analysis_test = geochemical_analysis_measured.drop(geochemical_analysis_train.index)\n",
    "\n",
    "        x_train = geochemical_analysis_train[x_labels].to_numpy(np.float32)\n",
    "        y_train = geochemical_analysis_train[y_labels].to_numpy(np.float32).ravel()\n",
    "        x_test = geochemical_analysis_test[x_labels].to_numpy(np.float32)\n",
    "        y_test = geochemical_analysis_test[y_labels].to_numpy(np.float32).ravel()   \n",
    "\n",
    "        model = HistGradientBoostingRegressor(loss=\"squared_error\", validation_fraction=0.2, min_samples_leaf=5, random_state=i).fit(x_train, y_train)\n",
    "\n",
    "        y_test_predicted = model.predict(x_test)\n",
    "        comparison, confusion_matrix = evaluate_performance(y_test, y_test_predicted, ppm_threshold, verbose=0)\n",
    "\n",
    "        if confusion_matrix.f1_score > benchmark_f1:\n",
    "            benchmark_seed = i\n",
    "            benchmark_f1 = confusion_matrix.f1_score\n",
    "            print(f\"Seed for {target_element} {ppm_threshold}ppm: {i} | Accuracy = {int(confusion_matrix.accuracy * 100)} | Precision = {int(confusion_matrix.precision * 100)} | Recall = {int(confusion_matrix.recall * 100)} | F1 = {int(confusion_matrix.f1_score * 100)}\")\n",
    "    \n",
    "    print(f\"Best seed {target_element}:\", benchmark_seed, benchmark_f1)\n",
    "\n",
    "for x in elements_thresholds:\n",
    "    if x[1]:\n",
    "        seed_hunt(0, 0, x[0], x[1])"
   ]
  }
 ],
 "metadata": {
  "kernelspec": {
   "display_name": "Python 3",
   "language": "python",
   "name": "python3"
  },
  "language_info": {
   "codemirror_mode": {
    "name": "ipython",
    "version": 3
   },
   "file_extension": ".py",
   "mimetype": "text/x-python",
   "name": "python",
   "nbconvert_exporter": "python",
   "pygments_lexer": "ipython3",
   "version": "3.10.5"
  },
  "orig_nbformat": 4
 },
 "nbformat": 4,
 "nbformat_minor": 2
}
