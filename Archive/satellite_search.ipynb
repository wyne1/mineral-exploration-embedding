{
 "cells": [
  {
   "cell_type": "code",
   "execution_count": null,
   "metadata": {},
   "outputs": [],
   "source": [
    "import geopandas\n",
    "import math\n",
    "import numpy\n",
    "import pandas\n",
    "import rasterio\n",
    "import rasterio.plot\n",
    "import shapely.geometry\n",
    "import sklearn.ensemble\n",
    "\n",
    "import analysis\n",
    "import data\n",
    "import datasets\n",
    "import reproducibility\n",
    "import satellite"
   ]
  },
  {
   "cell_type": "code",
   "execution_count": null,
   "metadata": {},
   "outputs": [],
   "source": [
    "AGGREGATE_LAYER_COUNT = 3\n",
    "AGGREGATE_LAYER_START = 1\n",
    "MEASUREMENT_DISAMBIGUATION_MODE = lambda series: series.max([target_column])\n",
    "PIXEL_LAYER_COUNT = 3\n",
    "PIXEL_LAYER_START = 0\n",
    "SEED_MIN = 0\n",
    "SEED_MAX = 100\n",
    "TARGET_COLUMNS = [\"SC\", \"V\", \"CR\", \"CO\", \"NI\", \"CU\", \"ZN\", \"GA\", \"MO\", \"W\", \"SN\", \"SB\", \"RB\", \"SR\", \"Y\", \"NB\", \"ZR\", \"CS\", \"CD\", \"BA\", \"LA\", \"CE\", \"PR\", \"ND\", \"SM\", \"EU\", \"GD\", \"TB\", \"DY\", \"HO\", \"ER\", \"TM\", \"YB\", \"LU\", \"HF\", \"TA\", \"PB\", \"TH\", \"U\", \"AU\", \"AG\", \"S\", \"AS_\", \"SE\", \"TE\", \"GE\", \"BI\", \"TL\", \"BE\", \"B\", \"F\", \"CL\", \"INDIUM\"]"
   ]
  },
  {
   "cell_type": "code",
   "execution_count": null,
   "metadata": {},
   "outputs": [],
   "source": [
    "satellite_image = datasets.satellite_image()"
   ]
  },
  {
   "cell_type": "code",
   "execution_count": null,
   "metadata": {},
   "outputs": [],
   "source": [
    "target_performance_map = {}\n",
    "\n",
    "for target_column in TARGET_COLUMNS:\n",
    "    if target_column in target_performance_map:\n",
    "        continue\n",
    "\n",
    "    positive_threshold = 200\n",
    "    satellite_data_frame = datasets.geochemical_satellite_analysis(satellite_image, target_column, positive_threshold)\n",
    "    satellite.create_features(satellite_data_frame, satellite_image, PIXEL_LAYER_START, PIXEL_LAYER_COUNT, AGGREGATE_LAYER_START, AGGREGATE_LAYER_COUNT)\n",
    "\n",
    "    index_data_frame = satellite.create_summary_data_frame(satellite_data_frame, satellite_image, target_column, MEASUREMENT_DISAMBIGUATION_MODE, PIXEL_LAYER_START, PIXEL_LAYER_COUNT, AGGREGATE_LAYER_START, AGGREGATE_LAYER_COUNT)\n",
    "    x_labels = index_data_frame.x_labels()\n",
    "    y_labels = index_data_frame.y_labels()\n",
    "\n",
    "    max_f1_seed = None\n",
    "    max_f1 = None\n",
    "\n",
    "    for seed in range(SEED_MIN, SEED_MAX):\n",
    "        x_train, y_train, x_test, y_test = data.split_train_test(index_data_frame, x_labels, y_labels, seed=seed)\n",
    "\n",
    "        histogram = sklearn.ensemble.HistGradientBoostingRegressor(loss=\"squared_error\", validation_fraction=0.2, min_samples_leaf=5, random_state=seed).fit(x_train, y_train)\n",
    "\n",
    "        y_test_predicted = histogram.predict(x_test)\n",
    "        comparison, confusion_matrix = analysis.evaluate_performance(y_test, y_test_predicted, positive_threshold)\n",
    "\n",
    "        if (max_f1 is None or math.isnan(max_f1) or confusion_matrix.f1_score > max_f1):\n",
    "            max_f1_seed = seed\n",
    "            max_f1 = confusion_matrix.f1_score\n",
    "            \n",
    "        print(f\"Target: {target_column} | Max F1: {max_f1} | Seed: {max_f1_seed}\")\n",
    "\n",
    "    target_performance_map[target_column] = {\n",
    "        \"max_f1\": max_f1,\n",
    "        \"max_f1_seed\": max_f1_seed,\n",
    "        \"positive_threshold\": positive_threshold\n",
    "    }"
   ]
  },
  {
   "cell_type": "code",
   "execution_count": null,
   "metadata": {},
   "outputs": [],
   "source": [
    "import json\n",
    "with open(\"Target Performance Map.json\", \"w\") as file:\n",
    "    json.dump(target_performance_map, file)"
   ]
  }
 ],
 "metadata": {
  "kernelspec": {
   "display_name": "Python 3",
   "language": "python",
   "name": "python3"
  },
  "language_info": {
   "codemirror_mode": {
    "name": "ipython",
    "version": 3
   },
   "file_extension": ".py",
   "mimetype": "text/x-python",
   "name": "python",
   "nbconvert_exporter": "python",
   "pygments_lexer": "ipython3",
   "version": "3.8.10"
  },
  "orig_nbformat": 4,
  "vscode": {
   "interpreter": {
    "hash": "86309ac60a4e15e7ce2f4556d564600f48015c3a9e46b9d2629de0a83a2aacb7"
   }
  }
 },
 "nbformat": 4,
 "nbformat_minor": 2
}
