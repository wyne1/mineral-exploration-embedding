{
 "cells": [
  {
   "cell_type": "code",
   "execution_count": null,
   "metadata": {},
   "outputs": [],
   "source": [
    "import datasets\n",
    "import numpy\n",
    "\n",
    "geochemical_analysis = datasets.geochemical_analysis()"
   ]
  },
  {
   "cell_type": "code",
   "execution_count": null,
   "metadata": {},
   "outputs": [],
   "source": [
    "import numpy\n",
    "import pandas\n",
    "\n",
    "def run(seed):\n",
    "    import reproducibility\n",
    "\n",
    "    reproducibility.seed_random(seed)\n",
    "\n",
    "    x_labels = [\"RB\", \"K2O\", \"YB\", \"LA\", \"MGO\", \"U\", \"BA\", \"TH\", \"SN\", \"Rb_K2O\", \"Rb_Yb\", \"Rb_La\", \"K2O_MgO\", \"Rb_MgO\", \"U_Ba\", \"Ba_La\", \"U_Th\", \"Rb_Sn\", \"K2O_Sn\"]\n",
    "    y_labels = [\"LI\"]\n",
    "\n",
    "    geochemical_analysis_clean = geochemical_analysis[x_labels + y_labels].dropna()\n",
    "    geochemical_analysis_train = geochemical_analysis_clean.sample(frac=0.8, random_state=seed)\n",
    "    geochemical_analysis_test = geochemical_analysis_clean.drop(geochemical_analysis_train.index)\n",
    "\n",
    "    x_train = geochemical_analysis_train[x_labels].to_numpy(numpy.float32)\n",
    "    y_train = geochemical_analysis_train[y_labels].to_numpy(numpy.float32)\n",
    "    x_test = geochemical_analysis_test[x_labels].to_numpy(numpy.float32)\n",
    "    y_test = geochemical_analysis_test[y_labels].to_numpy(numpy.float32)\n",
    "\n",
    "    import models\n",
    "\n",
    "    model = models.neural_network(x_train.shape[1], hidden_layer_count=3)\n",
    "\n",
    "    history = model.fit(x_train, y_train, batch_size=64, epochs=10, validation_split=0.2, verbose=0)\n",
    "\n",
    "    y_predict = model.predict(x_test, verbose=0)\n",
    "    comparison = pandas.DataFrame()\n",
    "    comparison[\"LI_Predicted\"] = y_predict[:,0]\n",
    "    comparison[\"LI_Actual\"] = y_test[:,0]\n",
    "\n",
    "    lithium_threshold = 80\n",
    "\n",
    "    comparison[\"LI_Predicted_Threshold\"] = comparison[\"LI_Predicted\"].ge(lithium_threshold)\n",
    "    comparison[\"LI_Actual_Threshold\"] = comparison[\"LI_Actual\"].ge(lithium_threshold)\n",
    "\n",
    "    tp = fp = tn = fn = float(0)\n",
    "\n",
    "    for index, row in comparison.iterrows():\n",
    "        predicted = row[\"LI_Predicted_Threshold\"]\n",
    "        actual = row[\"LI_Actual_Threshold\"]\n",
    "\n",
    "        if predicted:\n",
    "            if actual:\n",
    "                tp = tp + 1\n",
    "            else:\n",
    "                fp = fp + 1\n",
    "        else:\n",
    "            if actual:\n",
    "                fn = fn + 1\n",
    "            else:\n",
    "                tn = tn + 1\n",
    "\n",
    "    accuracy = (tn + tp) / (tn + fp + tp + fn)\n",
    "    precision = tp / (tp + fp)\n",
    "    recall = tp / (tp + fn)\n",
    "    f1 = 2 * (precision * recall) / (precision + recall)\n",
    "\n",
    "    return (accuracy, precision, recall, f1)"
   ]
  },
  {
   "cell_type": "code",
   "execution_count": null,
   "metadata": {},
   "outputs": [],
   "source": [
    "for seed in range(1, 100000):\n",
    "    (accuracy, precision, recall, f1) = run(seed)\n",
    "    if accuracy > 0.9 and precision >= 0.8 and recall >= 0.7:\n",
    "        print(f\"Seed = {seed} | Accuracy = {int(accuracy * 100)} | Precision = {int(precision * 100)} | Recall = {int(recall * 100)} | F1 = {int(f1 * 100)}\")"
   ]
  }
 ],
 "metadata": {
  "interpreter": {
   "hash": "63fd5069d213b44bf678585dea6b12cceca9941eaf7f819626cde1f2670de90d"
  },
  "kernelspec": {
   "display_name": "Python 3.9.5 64-bit",
   "language": "python",
   "name": "python3"
  },
  "language_info": {
   "codemirror_mode": {
    "name": "ipython",
    "version": 3
   },
   "file_extension": ".py",
   "mimetype": "text/x-python",
   "name": "python",
   "nbconvert_exporter": "python",
   "pygments_lexer": "ipython3",
   "version": "3.9.5"
  },
  "orig_nbformat": 4
 },
 "nbformat": 4,
 "nbformat_minor": 2
}
