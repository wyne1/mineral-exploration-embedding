{
 "cells": [
  {
   "cell_type": "code",
   "execution_count": 1,
   "id": "da10ea89",
   "metadata": {},
   "outputs": [],
   "source": [
    "import numpy\n",
    "import models\n",
    "from sklearn.decomposition import PCA\n",
    "import pandas\n",
    "import datasets"
   ]
  },
  {
   "cell_type": "code",
   "execution_count": 4,
   "id": "b6f5e98b",
   "metadata": {},
   "outputs": [],
   "source": [
    "df = pandas.read_excel(\"Data/Geochemical Analysis 20220911.xlsx\")"
   ]
  },
  {
   "cell_type": "code",
   "execution_count": 10,
   "id": "7d7cf09d",
   "metadata": {},
   "outputs": [
    {
     "data": {
      "text/plain": [
       "23047"
      ]
     },
     "execution_count": 10,
     "metadata": {},
     "output_type": "execute_result"
    }
   ],
   "source": [
    "(df[\"DEPTH\"] == \" \").sum()/23843"
   ]
  },
  {
   "cell_type": "code",
   "execution_count": 11,
   "id": "cca75bf8",
   "metadata": {},
   "outputs": [
    {
     "data": {
      "text/plain": [
       "(23843, 102)"
      ]
     },
     "execution_count": 11,
     "metadata": {},
     "output_type": "execute_result"
    }
   ],
   "source": [
    "df.shape"
   ]
  },
  {
   "cell_type": "code",
   "execution_count": null,
   "id": "eb2343dc",
   "metadata": {},
   "outputs": [],
   "source": []
  },
  {
   "cell_type": "code",
   "execution_count": 2,
   "id": "06f62326",
   "metadata": {},
   "outputs": [],
   "source": [
    "geochemical_analysis = datasets.geochemical_analysis()\n",
    "\n",
    "x_labels_1 = [\"V\", \"CR\", \"CO\", \"NI\", \"CU\", \"ZN\", \"GA\", \"SR\", \"Y\", \"NB\", \"ZR\", \"CE\", \"PR\", \"ND\", \"P2O5\", \"MNO\", \"CAO\", \"NA2O\"]\n",
    "#x_labels = [\"RB\", \"K2O\", \"YB\", \"LA\", \"MGO\", \"U\", \"BA\", \"TH\", \"SN\"]\n",
    "x_labels_2 = [\"RB\", \"K2O\", \"YB\", \"LA\", \"MGO\", \"U\", \"BA\", \"TH\", \"SN\", \"Rb_K2O\", \"Rb_Yb\", \"Rb_La\", \"K2O_MgO\", \"Rb_MgO\", \"U_Ba\", \"Ba_La\", \"U_Th\", \"Rb_Sn\", \"K2O_Sn\"]\n",
    "#x_labels = [\"Rb_K2O\", \"Rb_Yb\", \"Rb_La\", \"K2O_MgO\", \"Rb_MgO\", \"U_Ba\", \"Ba_La\", \"U_Th\", \"Rb_Sn\", \"K2O_Sn\"]\n",
    "y_labels = [\"LI\"]\n",
    "\n",
    "geochemical_analysis_clean = geochemical_analysis[x_labels_1 + x_labels_2 + y_labels].dropna()"
   ]
  },
  {
   "cell_type": "code",
   "execution_count": 104,
   "id": "cc054836",
   "metadata": {},
   "outputs": [
    {
     "name": "stdout",
     "output_type": "stream",
     "text": [
      "Model: \"LithiumPPM\"\n",
      "_________________________________________________________________\n",
      " Layer (type)                Output Shape              Param #   \n",
      "=================================================================\n",
      " input_16 (InputLayer)       [(None, 18)]              0         \n",
      "                                                                 \n",
      " dense_85 (Dense)            (None, 64)                1216      \n",
      "                                                                 \n",
      " dense_86 (Dense)            (None, 64)                4160      \n",
      "                                                                 \n",
      " dense_87 (Dense)            (None, 64)                4160      \n",
      "                                                                 \n",
      " dense_88 (Dense)            (None, 1)                 65        \n",
      "                                                                 \n",
      "=================================================================\n",
      "Total params: 9,601\n",
      "Trainable params: 9,601\n",
      "Non-trainable params: 0\n",
      "_________________________________________________________________\n",
      "Model: \"LithiumPPM\"\n",
      "_________________________________________________________________\n",
      " Layer (type)                Output Shape              Param #   \n",
      "=================================================================\n",
      " input_17 (InputLayer)       [(None, 19)]              0         \n",
      "                                                                 \n",
      " dense_89 (Dense)            (None, 64)                1280      \n",
      "                                                                 \n",
      " dense_90 (Dense)            (None, 64)                4160      \n",
      "                                                                 \n",
      " dense_91 (Dense)            (None, 64)                4160      \n",
      "                                                                 \n",
      " dense_92 (Dense)            (None, 1)                 65        \n",
      "                                                                 \n",
      "=================================================================\n",
      "Total params: 9,665\n",
      "Trainable params: 9,665\n",
      "Non-trainable params: 0\n",
      "_________________________________________________________________\n"
     ]
    }
   ],
   "source": [
    "geochemical_analysis_train = geochemical_analysis_clean.sample(frac=0.8, random_state=100)\n",
    "geochemical_analysis_test = geochemical_analysis_clean.drop(geochemical_analysis_train.index)\n",
    "\n",
    "x_train_1 = geochemical_analysis_train[x_labels_1].to_numpy(numpy.float32)\n",
    "x_train_2 = geochemical_analysis_train[x_labels_2].to_numpy(numpy.float32)\n",
    "y_train = geochemical_analysis_train[y_labels].to_numpy(numpy.float32)\n",
    "\n",
    "x_test = geochemical_analysis_test[x_labels_1 + x_labels_2].to_numpy(numpy.float32)\n",
    "y_test = geochemical_analysis_test[y_labels].to_numpy(numpy.float32)\n",
    "\n",
    "model_1 = models.neural_network(x_train_1.shape[1], 3)\n",
    "model_2 = models.neural_network(x_train_2.shape[1], 3)\n",
    "\n",
    "model_1.summary()\n",
    "model_2.summary()"
   ]
  },
  {
   "cell_type": "code",
   "execution_count": 110,
   "id": "feca25d5",
   "metadata": {},
   "outputs": [
    {
     "name": "stdout",
     "output_type": "stream",
     "text": [
      "Epoch 1/10\n",
      "30/30 [==============================] - 0s 3ms/step - loss: 3007.2461 - mean_absolute_error: 22.9935 - mean_squared_error: 3007.2461 - root_mean_squared_error: 54.8384 - val_loss: 1202.8248 - val_mean_absolute_error: 18.3723 - val_mean_squared_error: 1202.8248 - val_root_mean_squared_error: 34.6818\n",
      "Epoch 2/10\n",
      "30/30 [==============================] - 0s 791us/step - loss: 2636.6392 - mean_absolute_error: 21.3756 - mean_squared_error: 2636.6392 - root_mean_squared_error: 51.3482 - val_loss: 1155.6367 - val_mean_absolute_error: 19.8631 - val_mean_squared_error: 1155.6367 - val_root_mean_squared_error: 33.9947\n",
      "Epoch 3/10\n",
      "30/30 [==============================] - 0s 784us/step - loss: 2301.0945 - mean_absolute_error: 19.4998 - mean_squared_error: 2301.0945 - root_mean_squared_error: 47.9697 - val_loss: 979.9287 - val_mean_absolute_error: 17.5977 - val_mean_squared_error: 979.9287 - val_root_mean_squared_error: 31.3038\n",
      "Epoch 4/10\n",
      "30/30 [==============================] - 0s 786us/step - loss: 2292.8838 - mean_absolute_error: 19.2862 - mean_squared_error: 2292.8838 - root_mean_squared_error: 47.8841 - val_loss: 906.6985 - val_mean_absolute_error: 17.8632 - val_mean_squared_error: 906.6985 - val_root_mean_squared_error: 30.1114\n",
      "Epoch 5/10\n",
      "30/30 [==============================] - 0s 757us/step - loss: 2409.4453 - mean_absolute_error: 20.5192 - mean_squared_error: 2409.4453 - root_mean_squared_error: 49.0861 - val_loss: 1165.7366 - val_mean_absolute_error: 18.3179 - val_mean_squared_error: 1165.7366 - val_root_mean_squared_error: 34.1429\n",
      "Epoch 6/10\n",
      "30/30 [==============================] - 0s 824us/step - loss: 2209.9358 - mean_absolute_error: 18.8488 - mean_squared_error: 2209.9358 - root_mean_squared_error: 47.0100 - val_loss: 1037.4413 - val_mean_absolute_error: 18.1454 - val_mean_squared_error: 1037.4413 - val_root_mean_squared_error: 32.2093\n",
      "Epoch 7/10\n",
      "30/30 [==============================] - 0s 816us/step - loss: 2058.7876 - mean_absolute_error: 18.5654 - mean_squared_error: 2058.7876 - root_mean_squared_error: 45.3739 - val_loss: 1095.5093 - val_mean_absolute_error: 19.5884 - val_mean_squared_error: 1095.5093 - val_root_mean_squared_error: 33.0985\n",
      "Epoch 8/10\n",
      "30/30 [==============================] - 0s 778us/step - loss: 2018.8440 - mean_absolute_error: 18.5477 - mean_squared_error: 2018.8440 - root_mean_squared_error: 44.9315 - val_loss: 1002.9808 - val_mean_absolute_error: 18.9436 - val_mean_squared_error: 1002.9808 - val_root_mean_squared_error: 31.6699\n",
      "Epoch 9/10\n",
      "30/30 [==============================] - 0s 757us/step - loss: 2013.8789 - mean_absolute_error: 19.0532 - mean_squared_error: 2013.8789 - root_mean_squared_error: 44.8763 - val_loss: 1003.7433 - val_mean_absolute_error: 17.7908 - val_mean_squared_error: 1003.7433 - val_root_mean_squared_error: 31.6819\n",
      "Epoch 10/10\n",
      "30/30 [==============================] - 0s 816us/step - loss: 1925.3553 - mean_absolute_error: 18.2083 - mean_squared_error: 1925.3553 - root_mean_squared_error: 43.8789 - val_loss: 934.3376 - val_mean_absolute_error: 18.7003 - val_mean_squared_error: 934.3376 - val_root_mean_squared_error: 30.5669\n",
      "Epoch 1/10\n",
      "30/30 [==============================] - 0s 3ms/step - loss: 2264.3235 - mean_absolute_error: 20.4446 - mean_squared_error: 2264.3235 - root_mean_squared_error: 47.5849 - val_loss: 1026.1526 - val_mean_absolute_error: 17.6508 - val_mean_squared_error: 1026.1526 - val_root_mean_squared_error: 32.0336\n",
      "Epoch 2/10\n",
      "30/30 [==============================] - 0s 727us/step - loss: 1852.2166 - mean_absolute_error: 18.3302 - mean_squared_error: 1852.2166 - root_mean_squared_error: 43.0374 - val_loss: 925.7183 - val_mean_absolute_error: 16.0696 - val_mean_squared_error: 925.7183 - val_root_mean_squared_error: 30.4256\n",
      "Epoch 3/10\n",
      "30/30 [==============================] - 0s 794us/step - loss: 2069.0859 - mean_absolute_error: 20.1573 - mean_squared_error: 2069.0859 - root_mean_squared_error: 45.4872 - val_loss: 883.4844 - val_mean_absolute_error: 16.6031 - val_mean_squared_error: 883.4844 - val_root_mean_squared_error: 29.7235\n",
      "Epoch 4/10\n",
      "30/30 [==============================] - 0s 876us/step - loss: 1858.5033 - mean_absolute_error: 18.3600 - mean_squared_error: 1858.5033 - root_mean_squared_error: 43.1104 - val_loss: 1155.7657 - val_mean_absolute_error: 22.3494 - val_mean_squared_error: 1155.7657 - val_root_mean_squared_error: 33.9966\n",
      "Epoch 5/10\n",
      "30/30 [==============================] - 0s 766us/step - loss: 1679.5767 - mean_absolute_error: 18.5119 - mean_squared_error: 1679.5767 - root_mean_squared_error: 40.9826 - val_loss: 889.1011 - val_mean_absolute_error: 17.5975 - val_mean_squared_error: 889.1011 - val_root_mean_squared_error: 29.8178\n",
      "Epoch 6/10\n",
      "30/30 [==============================] - 0s 802us/step - loss: 1615.7552 - mean_absolute_error: 16.7557 - mean_squared_error: 1615.7552 - root_mean_squared_error: 40.1965 - val_loss: 992.3484 - val_mean_absolute_error: 18.8234 - val_mean_squared_error: 992.3484 - val_root_mean_squared_error: 31.5016\n",
      "Epoch 7/10\n",
      "30/30 [==============================] - 0s 768us/step - loss: 1587.5801 - mean_absolute_error: 17.0702 - mean_squared_error: 1587.5801 - root_mean_squared_error: 39.8444 - val_loss: 878.3135 - val_mean_absolute_error: 16.9268 - val_mean_squared_error: 878.3135 - val_root_mean_squared_error: 29.6364\n",
      "Epoch 8/10\n",
      "30/30 [==============================] - 0s 797us/step - loss: 1546.8126 - mean_absolute_error: 16.3951 - mean_squared_error: 1546.8126 - root_mean_squared_error: 39.3295 - val_loss: 905.4176 - val_mean_absolute_error: 17.0121 - val_mean_squared_error: 905.4176 - val_root_mean_squared_error: 30.0902\n",
      "Epoch 9/10\n",
      "30/30 [==============================] - 0s 805us/step - loss: 1524.3834 - mean_absolute_error: 17.0643 - mean_squared_error: 1524.3834 - root_mean_squared_error: 39.0434 - val_loss: 783.3803 - val_mean_absolute_error: 15.2999 - val_mean_squared_error: 783.3803 - val_root_mean_squared_error: 27.9889\n",
      "Epoch 10/10\n",
      "30/30 [==============================] - 0s 806us/step - loss: 1486.4366 - mean_absolute_error: 16.5183 - mean_squared_error: 1486.4366 - root_mean_squared_error: 38.5543 - val_loss: 778.7707 - val_mean_absolute_error: 15.4773 - val_mean_squared_error: 778.7707 - val_root_mean_squared_error: 27.9065\n"
     ]
    }
   ],
   "source": [
    "history_1 = model_1.fit(x_train_1, y_train, batch_size=64, epochs=10, validation_split=0.2)\n",
    "history_2 = model_2.fit(x_train_2, y_train, batch_size=64, epochs=10, validation_split=0.2)"
   ]
  },
  {
   "cell_type": "code",
   "execution_count": 99,
   "id": "4adb8d04",
   "metadata": {},
   "outputs": [
    {
     "name": "stdout",
     "output_type": "stream",
     "text": [
      "19/19 [==============================] - 0s 287us/step\n"
     ]
    }
   ],
   "source": [
    "y_predict_1 = model.predict(x_test)\n",
    "comparison = pandas.DataFrame()\n",
    "comparison[\"LI_Predicted\"] = y_predict[:,0]\n",
    "comparison[\"LI_Actual\"] = y_test[:,0]\n",
    "\n",
    "lithium_threshold = 80\n",
    "\n",
    "comparison[\"LI_Predicted_Threshold\"] = comparison[\"LI_Predicted\"].ge(lithium_threshold)\n",
    "comparison[\"LI_Actual_Threshold\"] = comparison[\"LI_Actual\"].ge(lithium_threshold)"
   ]
  },
  {
   "cell_type": "code",
   "execution_count": 100,
   "id": "3f2693e4",
   "metadata": {},
   "outputs": [],
   "source": [
    "tp = fp = tn = fn = float(0)\n",
    "\n",
    "for index, row in comparison.iterrows():\n",
    "    predicted = row[\"LI_Predicted_Threshold\"]\n",
    "    actual = row[\"LI_Actual_Threshold\"]\n",
    "\n",
    "    if predicted:\n",
    "        if actual:\n",
    "            tp = tp + 1\n",
    "        else:\n",
    "            fp = fp + 1\n",
    "    else:\n",
    "        if actual:\n",
    "            fn = fn + 1\n",
    "        else:\n",
    "            tn = tn + 1\n",
    "\n",
    "accuracy = (tn + tp) / (tn + fp + tp + fn)\n",
    "precision = tp / (tp + fp)\n",
    "recall = tp / (tp + fn)\n",
    "f1 = 2 * (precision * recall) / (precision + recall)"
   ]
  },
  {
   "cell_type": "code",
   "execution_count": 101,
   "id": "bed74511",
   "metadata": {},
   "outputs": [
    {
     "name": "stdout",
     "output_type": "stream",
     "text": [
      "Number of Training Samples: 2347\n",
      "Number of Test Samples: 587\n",
      "True Positives = 9\n",
      "False Positives = 1\n",
      "True Negatives = 560\n",
      "False Negatives = 17\n",
      "accuracy = 0.969335604770017\n",
      "precision = 0.9\n",
      "recall = 0.34615384615384615\n",
      "f1 = 0.5\n"
     ]
    }
   ],
   "source": [
    "print(f\"Number of Training Samples: {x_train.shape[0]}\")\n",
    "print(f\"Number of Test Samples: {x_test.shape[0]}\")\n",
    "print(f\"True Positives = {int(tp)}\")\n",
    "print(f\"False Positives = {int(fp)}\")\n",
    "print(f\"True Negatives = {int(tn)}\")\n",
    "print(f\"False Negatives = {int(fn)}\")\n",
    "print(f\"accuracy = {accuracy}\")\n",
    "print(f\"precision = {precision}\")\n",
    "print(f\"recall = {recall}\")\n",
    "print(f\"f1 = {f1}\")"
   ]
  },
  {
   "cell_type": "code",
   "execution_count": 102,
   "id": "c3693250",
   "metadata": {},
   "outputs": [
    {
     "data": {
      "text/plain": [
       "(2934, 38)"
      ]
     },
     "execution_count": 102,
     "metadata": {},
     "output_type": "execute_result"
    }
   ],
   "source": [
    "geochemical_analysis_clean.shape"
   ]
  },
  {
   "cell_type": "code",
   "execution_count": 109,
   "id": "d190f4b6",
   "metadata": {},
   "outputs": [
    {
     "data": {
      "text/plain": [
       "[1826.430419921875, 16.76494026184082, 1826.430419921875, 42.73675537109375]"
      ]
     },
     "execution_count": 109,
     "metadata": {},
     "output_type": "execute_result"
    }
   ],
   "source": [
    "test_scores"
   ]
  },
  {
   "cell_type": "code",
   "execution_count": 111,
   "id": "da137f52",
   "metadata": {},
   "outputs": [
    {
     "name": "stdout",
     "output_type": "stream",
     "text": [
      "19/19 [==============================] - 0s 313us/step\n",
      "19/19 [==============================] - 0s 324us/step\n"
     ]
    }
   ],
   "source": [
    "y_predict_1 = model_1.predict(geochemical_analysis_test[x_labels_1])\n",
    "y_predict_2 = model_2.predict(geochemical_analysis_test[x_labels_2])"
   ]
  },
  {
   "cell_type": "code",
   "execution_count": 113,
   "id": "da2c522e",
   "metadata": {},
   "outputs": [
    {
     "data": {
      "text/plain": [
       "(587, 1)"
      ]
     },
     "execution_count": 113,
     "metadata": {},
     "output_type": "execute_result"
    }
   ],
   "source": [
    "y_predict_1.shape"
   ]
  },
  {
   "cell_type": "code",
   "execution_count": 117,
   "id": "42f9687b",
   "metadata": {},
   "outputs": [],
   "source": [
    "comparison = pandas.DataFrame()\n",
    "comparison[\"LI_Predicted_1\"] = y_predict_1[:,0]\n",
    "comparison[\"LI_Predicted_2\"] = y_predict_2[:,0]\n",
    "comparison[\"LI_Actual\"] = y_test[:,0]"
   ]
  },
  {
   "cell_type": "code",
   "execution_count": 118,
   "id": "93753835",
   "metadata": {},
   "outputs": [],
   "source": [
    "import matplotlib.pyplot as plt "
   ]
  },
  {
   "cell_type": "code",
   "execution_count": 126,
   "id": "3c1694e0",
   "metadata": {},
   "outputs": [
    {
     "data": {
      "image/png": "[encoded data removed]",
      "text/plain": [
       "<Figure size 640x480 with 1 Axes>"
      ]
     },
     "metadata": {},
     "output_type": "display_data"
    }
   ],
   "source": [
    "plt.plot(y_test[:,0], y_predict_1[:,0], \".\")\n",
    "plt.plot(y_test[:,0], y_predict_2[:,0], \".\")\n",
    "plt.yscale(\"log\")\n",
    "plt.xscale(\"log\")"
   ]
  },
  {
   "cell_type": "code",
   "execution_count": 148,
   "id": "245570f0",
   "metadata": {},
   "outputs": [],
   "source": [
    "pred_pos_1 = y_predict_1[:,0] > 80\n",
    "pred_pos_2 = y_predict_2[:,0] > 80\n",
    "test_pos = y_test[:,0] > 80"
   ]
  },
  {
   "cell_type": "code",
   "execution_count": 149,
   "id": "db51a4c8",
   "metadata": {},
   "outputs": [
    {
     "name": "stdout",
     "output_type": "stream",
     "text": [
      "11\n",
      "3\n"
     ]
    }
   ],
   "source": [
    "model_2 = (pred_pos_2 == True) * (test_pos == True)\n",
    "model1_residual = (pred_pos_1 == True) * (pred_pos_2 == False) * (test_pos == True)\n",
    "\n",
    "print(model_2.sum())\n",
    "print(model1_residual.sum())"
   ]
  },
  {
   "cell_type": "code",
   "execution_count": 173,
   "id": "b925e88e",
   "metadata": {},
   "outputs": [
    {
     "name": "stdout",
     "output_type": "stream",
     "text": [
      "Count: 587\n",
      "Actual Positives: 26\n",
      "Actual Negatives: 561\n",
      "============================================\n",
      "Model 1 True Positives: 7\n",
      "Model 1 False Positives: 11\n",
      "Model 2 True Positives: 11\n",
      "Model 2 False Positives: 4\n",
      "============================================\n",
      "Model 1 True Negatives: 550\n",
      "Model 1 False Negatives: 19\n",
      "Model 2 True Negatives: 557\n",
      "Model 2 False Negatives: 15\n",
      "============================================\n",
      "Model 1 Residual True Positives: 3\n",
      "Model 2 Residual True Positives: 7\n"
     ]
    }
   ],
   "source": [
    "print(\"Count: \" + str(test_pos.shape[0]))\n",
    "print(\"Actual Positives: \" + str(test_pos.sum()))\n",
    "print(\"Actual Negatives: \" + str(test_pos.shape[0] - test_pos.sum()))\n",
    "\n",
    "print(\"============================================\")\n",
    "print(\"Model 1 True Positives: \" + str(((pred_pos_1 == test_pos)*pred_pos_1).sum()))\n",
    "print(\"Model 1 False Positives: \" + str(((pred_pos_1 != test_pos)*pred_pos_1).sum()))\n",
    "\n",
    "print(\"Model 2 True Positives: \" + str(((pred_pos_2 == test_pos)*pred_pos_2).sum()))\n",
    "print(\"Model 2 False Positives: \" + str(((pred_pos_2 != test_pos)*pred_pos_2).sum()))\n",
    "\n",
    "print(\"============================================\")\n",
    "print(\"Model 1 True Negatives: \" + str(((pred_pos_1 == test_pos)*(pred_pos_1 == False)).sum()))\n",
    "print(\"Model 1 False Negatives: \" + str(((pred_pos_1 != test_pos)*(pred_pos_1 == False)).sum()))\n",
    "\n",
    "print(\"Model 2 True Negatives: \" + str(((pred_pos_2 == test_pos)*(pred_pos_2 == False)).sum()))\n",
    "print(\"Model 2 False Negatives: \" + str(((pred_pos_2 != test_pos)*(pred_pos_2 == False)).sum()))\n",
    "\n",
    "print(\"============================================\")\n",
    "print(\"Model 1 Residual True Positives: \" + str(((pred_pos_1 == test_pos)*(pred_pos_1)*(pred_pos_2 == False)).sum()))\n",
    "print(\"Model 2 Residual True Positives: \" + str(((pred_pos_2 == test_pos)*(pred_pos_2)*(pred_pos_1 == False)).sum()))"
   ]
  },
  {
   "cell_type": "code",
   "execution_count": 165,
   "id": "e38fd6a7",
   "metadata": {},
   "outputs": [
    {
     "name": "stdout",
     "output_type": "stream",
     "text": [
      "zsh:1: command not found: pred_pos_2\r\n"
     ]
    }
   ],
   "source": []
  },
  {
   "cell_type": "code",
   "execution_count": 168,
   "id": "f7738485",
   "metadata": {},
   "outputs": [
    {
     "data": {
      "text/plain": [
       "(2934, 38)"
      ]
     },
     "execution_count": 168,
     "metadata": {},
     "output_type": "execute_result"
    }
   ],
   "source": [
    "geochemical_analysis_clean.shape"
   ]
  },
  {
   "cell_type": "code",
   "execution_count": 197,
   "id": "0e8afc3f",
   "metadata": {},
   "outputs": [],
   "source": [
    "x_labels = [\"RB\", \"K2O\", \"YB\", \"LA\", \"MGO\", \"U\", \"BA\", \"TH\", \"SN\"]\n",
    "#x_labels = [\"Rb_K2O\", \"Rb_Yb\", \"Rb_La\", \"K2O_MgO\", \"Rb_MgO\", \"U_Ba\", \"Ba_La\", \"U_Th\", \"Rb_Sn\", \"K2O_Sn\"]\n",
    "geochemical_analysis_clean = geochemical_analysis[x_labels + y_labels].dropna()"
   ]
  },
  {
   "cell_type": "code",
   "execution_count": 198,
   "id": "cc34ac1a",
   "metadata": {},
   "outputs": [],
   "source": [
    "from sklearn.decomposition import PCA"
   ]
  },
  {
   "cell_type": "code",
   "execution_count": 213,
   "id": "31930f8a",
   "metadata": {},
   "outputs": [
    {
     "data": {
      "text/html": [
       "<style>#sk-container-id-2 {color: black;background-color: white;}#sk-container-id-2 pre{padding: 0;}#sk-container-id-2 div.sk-toggleable {background-color: white;}#sk-container-id-2 label.sk-toggleable__label {cursor: pointer;display: block;width: 100%;margin-bottom: 0;padding: 0.3em;box-sizing: border-box;text-align: center;}#sk-container-id-2 label.sk-toggleable__label-arrow:before {content: \"▸\";float: left;margin-right: 0.25em;color: #696969;}#sk-container-id-2 label.sk-toggleable__label-arrow:hover:before {color: black;}#sk-container-id-2 div.sk-estimator:hover label.sk-toggleable__label-arrow:before {color: black;}#sk-container-id-2 div.sk-toggleable__content {max-height: 0;max-width: 0;overflow: hidden;text-align: left;background-color: #f0f8ff;}#sk-container-id-2 div.sk-toggleable__content pre {margin: 0.2em;color: black;border-radius: 0.25em;background-color: #f0f8ff;}#sk-container-id-2 input.sk-toggleable__control:checked~div.sk-toggleable__content {max-height: 200px;max-width: 100%;overflow: auto;}#sk-container-id-2 input.sk-toggleable__control:checked~label.sk-toggleable__label-arrow:before {content: \"▾\";}#sk-container-id-2 div.sk-estimator input.sk-toggleable__control:checked~label.sk-toggleable__label {background-color: #d4ebff;}#sk-container-id-2 div.sk-label input.sk-toggleable__control:checked~label.sk-toggleable__label {background-color: #d4ebff;}#sk-container-id-2 input.sk-hidden--visually {border: 0;clip: rect(1px 1px 1px 1px);clip: rect(1px, 1px, 1px, 1px);height: 1px;margin: -1px;overflow: hidden;padding: 0;position: absolute;width: 1px;}#sk-container-id-2 div.sk-estimator {font-family: monospace;background-color: #f0f8ff;border: 1px dotted black;border-radius: 0.25em;box-sizing: border-box;margin-bottom: 0.5em;}#sk-container-id-2 div.sk-estimator:hover {background-color: #d4ebff;}#sk-container-id-2 div.sk-parallel-item::after {content: \"\";width: 100%;border-bottom: 1px solid gray;flex-grow: 1;}#sk-container-id-2 div.sk-label:hover label.sk-toggleable__label {background-color: #d4ebff;}#sk-container-id-2 div.sk-serial::before {content: \"\";position: absolute;border-left: 1px solid gray;box-sizing: border-box;top: 0;bottom: 0;left: 50%;z-index: 0;}#sk-container-id-2 div.sk-serial {display: flex;flex-direction: column;align-items: center;background-color: white;padding-right: 0.2em;padding-left: 0.2em;position: relative;}#sk-container-id-2 div.sk-item {position: relative;z-index: 1;}#sk-container-id-2 div.sk-parallel {display: flex;align-items: stretch;justify-content: center;background-color: white;position: relative;}#sk-container-id-2 div.sk-item::before, #sk-container-id-2 div.sk-parallel-item::before {content: \"\";position: absolute;border-left: 1px solid gray;box-sizing: border-box;top: 0;bottom: 0;left: 50%;z-index: -1;}#sk-container-id-2 div.sk-parallel-item {display: flex;flex-direction: column;z-index: 1;position: relative;background-color: white;}#sk-container-id-2 div.sk-parallel-item:first-child::after {align-self: flex-end;width: 50%;}#sk-container-id-2 div.sk-parallel-item:last-child::after {align-self: flex-start;width: 50%;}#sk-container-id-2 div.sk-parallel-item:only-child::after {width: 0;}#sk-container-id-2 div.sk-dashed-wrapped {border: 1px dashed gray;margin: 0 0.4em 0.5em 0.4em;box-sizing: border-box;padding-bottom: 0.4em;background-color: white;}#sk-container-id-2 div.sk-label label {font-family: monospace;font-weight: bold;display: inline-block;line-height: 1.2em;}#sk-container-id-2 div.sk-label-container {text-align: center;}#sk-container-id-2 div.sk-container {/* jupyter's `normalize.less` sets `[hidden] { display: none; }` but bootstrap.min.css set `[hidden] { display: none !important; }` so we also need the `!important` here to be able to override the default hidden behavior on the sphinx rendered scikit-learn.org. See: https://github.com/scikit-learn/scikit-learn/issues/21755 */display: inline-block !important;position: relative;}#sk-container-id-2 div.sk-text-repr-fallback {display: none;}</style><div id=\"sk-container-id-2\" class=\"sk-top-container\"><div class=\"sk-text-repr-fallback\"><pre>PCA()</pre><b>In a Jupyter environment, please rerun this cell to show the HTML representation or trust the notebook. <br />On GitHub, the HTML representation is unable to render, please try loading this page with nbviewer.org.</b></div><div class=\"sk-container\" hidden><div class=\"sk-item\"><div class=\"sk-estimator sk-toggleable\"><input class=\"sk-toggleable__control sk-hidden--visually\" id=\"sk-estimator-id-2\" type=\"checkbox\" checked><label for=\"sk-estimator-id-2\" class=\"sk-toggleable__label sk-toggleable__label-arrow\">PCA</label><div class=\"sk-toggleable__content\"><pre>PCA()</pre></div></div></div></div></div>"
      ],
      "text/plain": [
       "PCA()"
      ]
     },
     "execution_count": 213,
     "metadata": {},
     "output_type": "execute_result"
    }
   ],
   "source": [
    "pca = PCA()\n",
    "\n",
    "for label in [x_labels + y_labels]:\n",
    "    geochemical_analysis_clean[label] = geochemical_analysis_clean[label]/geochemical_analysis_clean[label].mean()\n",
    "\n",
    "pca.fit(geochemical_analysis_clean)"
   ]
  },
  {
   "cell_type": "code",
   "execution_count": 214,
   "id": "feb04cc4",
   "metadata": {},
   "outputs": [
    {
     "data": {
      "text/plain": [
       "array([ 9.78320256e-04,  8.02222574e-04, -4.45794299e-04, -8.12171590e-04,\n",
       "       -7.64464157e-04,  9.99996059e-01, -4.86876748e-05, -6.44748286e-05,\n",
       "        2.07471507e-03])"
      ]
     },
     "execution_count": 214,
     "metadata": {},
     "output_type": "execute_result"
    }
   ],
   "source": [
    "pca.components_[0][:-1]"
   ]
  },
  {
   "cell_type": "code",
   "execution_count": 209,
   "id": "56c1ff50",
   "metadata": {},
   "outputs": [
    {
     "data": {
      "text/plain": [
       "[<matplotlib.lines.Line2D at 0x296292670>]"
      ]
     },
     "execution_count": 209,
     "metadata": {},
     "output_type": "execute_result"
    },
    {
     "data": {
      "image/png": "[encoded data removed]",
      "text/plain": [
       "<Figure size 640x480 with 1 Axes>"
      ]
     },
     "metadata": {},
     "output_type": "display_data"
    }
   ],
   "source": [
    "plt.plot(geochemical_analysis_clean[\"U\"], geochemical_analysis_clean[\"BA\"], \".\")"
   ]
  },
  {
   "cell_type": "code",
   "execution_count": 215,
   "id": "3997ffeb",
   "metadata": {},
   "outputs": [
    {
     "data": {
      "text/plain": [
       "1.0"
      ]
     },
     "execution_count": 215,
     "metadata": {},
     "output_type": "execute_result"
    }
   ],
   "source": [
    "geochemical_analysis_clean[\"RB\"].mean()"
   ]
  },
  {
   "cell_type": "code",
   "execution_count": null,
   "id": "3535bfc7",
   "metadata": {},
   "outputs": [],
   "source": []
  }
 ],
 "metadata": {
  "kernelspec": {
   "display_name": "Python 3 (ipykernel)",
   "language": "python",
   "name": "python3"
  },
  "language_info": {
   "codemirror_mode": {
    "name": "ipython",
    "version": 3
   },
   "file_extension": ".py",
   "mimetype": "text/x-python",
   "name": "python",
   "nbconvert_exporter": "python",
   "pygments_lexer": "ipython3",
   "version": "3.8.9"
  }
 },
 "nbformat": 4,
 "nbformat_minor": 5
}
