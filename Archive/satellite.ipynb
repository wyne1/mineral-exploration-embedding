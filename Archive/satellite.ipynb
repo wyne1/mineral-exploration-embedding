{
 "cells": [
  {
   "cell_type": "code",
   "execution_count": null,
   "metadata": {},
   "outputs": [],
   "source": [
    "import data\n",
    "import datasets\n",
    "import numpy\n",
    "\n",
    "lithium_threshold = 200\n",
    "\n",
    "satellite_analysis = datasets.satellite_analysis()"
   ]
  },
  {
   "cell_type": "code",
   "execution_count": null,
   "metadata": {},
   "outputs": [],
   "source": [
    "lithium_column = \"LI\"\n",
    "\n",
    "x_labels = satellite_analysis.x_labels()\n",
    "y_labels = satellite_analysis.y_labels()\n",
    "\n",
    "satellite_analysis_lithium_measured = satellite_analysis[x_labels + y_labels].dropna(subset=y_labels)"
   ]
  },
  {
   "cell_type": "code",
   "execution_count": null,
   "metadata": {},
   "outputs": [],
   "source": [
    "for seed in range(10):\n",
    "    x_train, y_train, x_test, y_test = data.split_train_test(satellite_analysis_lithium_measured, x_labels, y_labels, seed=seed)\n",
    "\n",
    "    import sklearn.ensemble\n",
    "\n",
    "    model = sklearn.ensemble.HistGradientBoostingRegressor(loss=\"squared_error\", validation_fraction=0.2, min_samples_leaf=5, random_state=seed).fit(x_train, y_train)\n",
    "\n",
    "    print(\"Training Score\", model.score(x_train, y_train))\n",
    "    print(\"Test Score\", model.score(x_test, y_test))\n",
    "\n",
    "    from analysis import *\n",
    "    y_test_predicted = model.predict(x_test)\n",
    "    comparison, confusion_matrix, geochem_result_set = evaluate_performance(y_test, y_test_predicted, lithium_threshold)\n",
    "\n",
    "    import joblib\n",
    "    joblib.dump(model, \"Models/SatelliteHistogramGradientBoostingRegressor.joblib\")\n",
    "\n",
    "    #import skl2onnx \n",
    "    #import skl2onnx.common.data_types\n",
    "    #initial_type = [(\"input\", skl2onnx.common.data_types.FloatTensorType([None, x_train.shape[1]]))]\n",
    "    #with open(\"Models/SatelliteHistogramGradientBoostingRegressor.onnx\", \"wb\") as file:\n",
    "    #    file.write(skl2onnx.convert_sklearn(model, initial_types=initial_type).SerializeToString())"
   ]
  }
 ],
 "metadata": {
  "kernelspec": {
   "display_name": "Python 3",
   "language": "python",
   "name": "python3"
  },
  "language_info": {
   "codemirror_mode": {
    "name": "ipython",
    "version": 3
   },
   "file_extension": ".py",
   "mimetype": "text/x-python",
   "name": "python",
   "nbconvert_exporter": "python",
   "pygments_lexer": "ipython3",
   "version": "3.12.0"
  },
  "orig_nbformat": 4,
  "vscode": {
   "interpreter": {
    "hash": "86309ac60a4e15e7ce2f4556d564600f48015c3a9e46b9d2629de0a83a2aacb7"
   }
  }
 },
 "nbformat": 4,
 "nbformat_minor": 2
}
